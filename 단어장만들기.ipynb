{
 "cells": [
  {
   "cell_type": "code",
   "execution_count": null,
   "id": "45b9e315",
   "metadata": {},
   "outputs": [
    {
     "name": "stdout",
     "output_type": "stream",
     "text": [
      "무엇을 할까요?\n",
      "1. 단어 보기\n",
      "2. 단어 추가\n",
      "3. 단어 삭제\n",
      "4. 프로그램 종료\n",
      "무엇을 할까요?\n",
      "잘못 입력 하였습니다. 다시 입력해 주세요\n",
      "무엇을 할까요?\n",
      "1. 단어 보기\n",
      "2. 단어 추가\n",
      "3. 단어 삭제\n",
      "4. 프로그램 종료\n",
      "1\n",
      "단어가 없습니다.\n",
      "무엇을 할까요?\n",
      "1. 단어 보기\n",
      "2. 단어 추가\n",
      "3. 단어 삭제\n",
      "4. 프로그램 종료\n",
      "2\n",
      "추가할 단어를 입력하세요이상학\n",
      "단어의 뜻을 입력하세요선생님\n",
      "무엇을 할까요?\n",
      "1. 단어 보기\n",
      "2. 단어 추가\n",
      "3. 단어 삭제\n",
      "4. 프로그램 종료\n",
      "1\n",
      "이상학 = 선생님\n",
      "무엇을 할까요?\n",
      "1. 단어 보기\n",
      "2. 단어 추가\n",
      "3. 단어 삭제\n",
      "4. 프로그램 종료\n"
     ]
    }
   ],
   "source": [
    "my_dict = {}\n",
    "def print_menu():\n",
    "    print(\"무엇을 할까요?\")\n",
    "    print(\"1. 단어 보기\")\n",
    "    print(\"2. 단어 추가\")\n",
    "    print(\"3. 단어 삭제\")\n",
    "    print(\"4. 프로그램 종료\")\n",
    "\n",
    "while True:\n",
    "    print_menu()    \n",
    "    rst = input()\n",
    "\n",
    "    if rst == '1': # 단어 보기\n",
    "        if not my_dict:\n",
    "            print(\"단어가 없습니다.\")\n",
    "            continue\n",
    "\n",
    "        for k, v in my_dict.items():\n",
    "            print(f'{k} = {v}')\n",
    "    elif rst == '2': # 단어 추가\n",
    "        add_key = input(\"추가할 단어를 입력하세요\")\n",
    "        add_value = input(\"단어의 뜻을 입력하세요\")\n",
    "        my_dict[add_key] = add_value\n",
    "    elif rst == '3': # 단어 삭제    \n",
    "        del_key = input(\"삭제할 단어를 입력하세요\")\n",
    "        try:\n",
    "            del my_dict[del_key]\n",
    "        except:\n",
    "            print(f\"{del_key}의 단어는 없습니다.\") \n",
    "    elif rst == '4': # 종료\n",
    "        break\n",
    "    else:\n",
    "        print(\"잘못 입력 하였습니다. 다시 입력해 주세요\")\n",
    "    "
   ]
  },
  {
   "cell_type": "code",
   "execution_count": null,
   "id": "a59fd426",
   "metadata": {},
   "outputs": [],
   "source": []
  }
 ],
 "metadata": {
  "kernelspec": {
   "display_name": "Python 3 (ipykernel)",
   "language": "python",
   "name": "python3"
  },
  "language_info": {
   "codemirror_mode": {
    "name": "ipython",
    "version": 3
   },
   "file_extension": ".py",
   "mimetype": "text/x-python",
   "name": "python",
   "nbconvert_exporter": "python",
   "pygments_lexer": "ipython3",
   "version": "3.11.5"
  }
 },
 "nbformat": 4,
 "nbformat_minor": 5
}
