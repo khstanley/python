{
 "cells": [
  {
   "cell_type": "code",
   "execution_count": 64,
   "id": "7a65c350",
   "metadata": {},
   "outputs": [
    {
     "name": "stdout",
     "output_type": "stream",
     "text": [
      "hello\n"
     ]
    }
   ],
   "source": [
    "print('hello')"
   ]
  },
  {
   "cell_type": "markdown",
   "id": "aa8a2f46",
   "metadata": {},
   "source": [
    "### 딕셔너리 생성"
   ]
  },
  {
   "cell_type": "code",
   "execution_count": 65,
   "id": "42aaf656",
   "metadata": {},
   "outputs": [
    {
     "data": {
      "text/plain": [
       "dict"
      ]
     },
     "execution_count": 65,
     "metadata": {},
     "output_type": "execute_result"
    }
   ],
   "source": [
    "dictionary = {}\n",
    "type(dictionary)"
   ]
  },
  {
   "cell_type": "code",
   "execution_count": 66,
   "id": "fd34e677",
   "metadata": {},
   "outputs": [
    {
     "data": {
      "text/plain": [
       "dict"
      ]
     },
     "execution_count": 66,
     "metadata": {},
     "output_type": "execute_result"
    }
   ],
   "source": [
    "dictionary2 = dict()\n",
    "type(dictionary2)"
   ]
  },
  {
   "cell_type": "markdown",
   "id": "189a77c9",
   "metadata": {},
   "source": [
    "### 요소추가"
   ]
  },
  {
   "cell_type": "code",
   "execution_count": 67,
   "id": "7357432f",
   "metadata": {},
   "outputs": [
    {
     "data": {
      "text/plain": [
       "{'student': '학생',\n",
       " 'teacher': '교사',\n",
       " 'classroom': '교실',\n",
       " 'smart': '현명한',\n",
       " 'lunch': '점심'}"
      ]
     },
     "execution_count": 67,
     "metadata": {},
     "output_type": "execute_result"
    }
   ],
   "source": [
    "dictionary['student'] = '학생'\n",
    "dictionary['teacher'] = '교사'\n",
    "dictionary['classroom']  = '교실'\n",
    "dictionary['smart'] = '현명한'\n",
    "dictionary['lunch'] = '점심'\n",
    "dictionary"
   ]
  },
  {
   "cell_type": "markdown",
   "id": "245b7dd5",
   "metadata": {},
   "source": [
    "### 요소삭제"
   ]
  },
  {
   "cell_type": "code",
   "execution_count": 68,
   "id": "097dcf6e",
   "metadata": {},
   "outputs": [
    {
     "data": {
      "text/plain": [
       "{'teacher': '교사', 'classroom': '교실', 'smart': '현명한', 'lunch': '점심'}"
      ]
     },
     "execution_count": 68,
     "metadata": {},
     "output_type": "execute_result"
    }
   ],
   "source": [
    "del dictionary['student']\n",
    "dictionary"
   ]
  },
  {
   "cell_type": "code",
   "execution_count": 69,
   "id": "0a9f5fe5",
   "metadata": {},
   "outputs": [
    {
     "name": "stdout",
     "output_type": "stream",
     "text": [
      "{'classroom': '교실', 'smart': '현명한', 'lunch': '점심'}\n",
      "교사\n"
     ]
    }
   ],
   "source": [
    "word = dictionary.pop('teacher')\n",
    "print(dictionary)\n",
    "print(word)"
   ]
  },
  {
   "cell_type": "markdown",
   "id": "83c608fa",
   "metadata": {},
   "source": [
    "### 요소수정\n"
   ]
  },
  {
   "cell_type": "code",
   "execution_count": 70,
   "id": "52a8b6c2",
   "metadata": {},
   "outputs": [
    {
     "name": "stdout",
     "output_type": "stream",
     "text": [
      "{'classroom': '교실', 'smart': '현명한', 'lunch': '점심', 'student': '학생'}\n",
      "{'classroom': '교실', 'smart': '현명한', 'lunch': '점심', 'student': '학생2'}\n"
     ]
    }
   ],
   "source": [
    "dictionary['student'] = '학생'\n",
    "print(dictionary)\n",
    "dictionary['student'] = '학생2'\n",
    "print(dictionary)"
   ]
  },
  {
   "cell_type": "markdown",
   "id": "dbf0fa07",
   "metadata": {},
   "source": [
    "### 요소조회"
   ]
  },
  {
   "cell_type": "code",
   "execution_count": 71,
   "id": "7190576e",
   "metadata": {},
   "outputs": [
    {
     "name": "stdout",
     "output_type": "stream",
     "text": [
      "교실\n"
     ]
    }
   ],
   "source": [
    "# 1) key로 value 조회하기\n",
    "meaning = dictionary['classroom']\n",
    "print(meaning)"
   ]
  },
  {
   "cell_type": "code",
   "execution_count": 72,
   "id": "681fe4d8",
   "metadata": {},
   "outputs": [
    {
     "name": "stdout",
     "output_type": "stream",
     "text": [
      "classroom 교실\n",
      "smart 현명한\n",
      "lunch 점심\n",
      "student 학생2\n"
     ]
    }
   ],
   "source": [
    "# 2) 전체조회\n",
    "# 2-1) keys\n",
    "\n",
    "for key in dictionary.keys() :\n",
    "    print(key,dictionary[key])"
   ]
  },
  {
   "cell_type": "code",
   "execution_count": 73,
   "id": "0487884d",
   "metadata": {},
   "outputs": [
    {
     "name": "stdout",
     "output_type": "stream",
     "text": [
      "classroom 교실\n",
      "smart 현명한\n",
      "lunch 점심\n",
      "student 학생2\n"
     ]
    }
   ],
   "source": [
    "# 2-2) items\n",
    "# a,b = (1,2)\n",
    "# print(a,b)\n",
    "for key, value in dictionary.items() :\n",
    "    print(key,value)"
   ]
  },
  {
   "cell_type": "code",
   "execution_count": 74,
   "id": "5e433f1e",
   "metadata": {},
   "outputs": [
    {
     "name": "stdout",
     "output_type": "stream",
     "text": [
      "classroom       : 교실\n",
      "smart           : 현명한\n",
      "lunch           : 점심\n",
      "student         : 학생2\n"
     ]
    }
   ],
   "source": [
    "for key, value in dictionary.items() :\n",
    "    print('{:15} : {}'.format(key,value))"
   ]
  },
  {
   "cell_type": "code",
   "execution_count": 75,
   "id": "958b2d66",
   "metadata": {},
   "outputs": [
    {
     "name": "stdout",
     "output_type": "stream",
     "text": [
      "dict_keys(['classroom', 'smart', 'lunch', 'student'])\n",
      "dict_values(['교실', '현명한', '점심', '학생2'])\n",
      "dict_items([('classroom', '교실'), ('smart', '현명한'), ('lunch', '점심'), ('student', '학생2')])\n"
     ]
    }
   ],
   "source": [
    "# 3) keys\n",
    "print(dictionary.keys())\n",
    "# 4) values\n",
    "print(dictionary.values())\n",
    "# 5) items\n",
    "print(dictionary.items())"
   ]
  },
  {
   "cell_type": "markdown",
   "id": "30c903c2",
   "metadata": {},
   "source": [
    "### key 존재여부"
   ]
  },
  {
   "cell_type": "code",
   "execution_count": 76,
   "id": "a1c1608c",
   "metadata": {},
   "outputs": [
    {
     "name": "stdout",
     "output_type": "stream",
     "text": [
      "False\n",
      "True\n",
      "있음\n"
     ]
    }
   ],
   "source": [
    "print( 'sutdnet' in dictionary)\n",
    "print( 'sutdnet' not in dictionary)\n",
    "if 'student' in dictionary :\n",
    "    print('있음')\n",
    "else:\n",
    "    print('없음')"
   ]
  },
  {
   "cell_type": "markdown",
   "id": "d52e4667",
   "metadata": {},
   "source": [
    "### 요소갯수"
   ]
  },
  {
   "cell_type": "code",
   "execution_count": 77,
   "id": "8bd2e315",
   "metadata": {},
   "outputs": [
    {
     "name": "stdout",
     "output_type": "stream",
     "text": [
      "4\n"
     ]
    }
   ],
   "source": [
    "print(len(dictionary))"
   ]
  },
  {
   "cell_type": "markdown",
   "id": "3487be02",
   "metadata": {},
   "source": [
    "### 요소 정렬"
   ]
  },
  {
   "cell_type": "code",
   "execution_count": 78,
   "id": "634fbf95",
   "metadata": {},
   "outputs": [
    {
     "name": "stdout",
     "output_type": "stream",
     "text": [
      "-정렬시작-\n",
      "[('classroom', '교실'), ('lunch', '점심'), ('smart', '현명한'), ('student', '학생2')]\n",
      "[('student', '학생2'), ('smart', '현명한'), ('lunch', '점심'), ('classroom', '교실')]\n"
     ]
    }
   ],
   "source": [
    "import operator\n",
    "print('-정렬시작-')\n",
    "sortedDictionary = sorted(dictionary.items(),key=operator.itemgetter(0))\n",
    "print(sortedDictionary)\n",
    "reverseDictionary = sorted(dictionary.items(),key=operator.itemgetter(0), reverse=True)\n",
    "print(reverseDictionary)\n"
   ]
  },
  {
   "cell_type": "code",
   "execution_count": 79,
   "id": "35cadc51",
   "metadata": {},
   "outputs": [
    {
     "name": "stdout",
     "output_type": "stream",
     "text": [
      "오름차순\n",
      "classroom       : 교실\n",
      "lunch           : 점심\n",
      "smart           : 현명한\n",
      "student         : 학생2\n"
     ]
    }
   ],
   "source": [
    "print('오름차순')\n",
    "for key, value in sortedDictionary :\n",
    "    print('{:15} : {}'.format(key,value))"
   ]
  },
  {
   "cell_type": "code",
   "execution_count": 80,
   "id": "2175f207",
   "metadata": {},
   "outputs": [
    {
     "name": "stdout",
     "output_type": "stream",
     "text": [
      "내림차순\n",
      "student         : 학생2\n",
      "smart           : 현명한\n",
      "lunch           : 점심\n",
      "classroom       : 교실\n"
     ]
    }
   ],
   "source": [
    "print('내림차순')\n",
    "for key, value in reverseDictionary:\n",
    "    print('{:15} : {}'.format(key,value))"
   ]
  },
  {
   "cell_type": "markdown",
   "id": "fe830139",
   "metadata": {},
   "source": [
    "### 문자열 공백제거"
   ]
  },
  {
   "cell_type": "code",
   "execution_count": 81,
   "id": "d7660a52",
   "metadata": {},
   "outputs": [
    {
     "name": "stdout",
     "output_type": "stream",
     "text": [
      "class\n",
      "c l a s s\n",
      "c l a s s \n",
      " c l a s s\n"
     ]
    }
   ],
   "source": [
    "# replace()\n",
    "# strip(), lstrip(), rstrip()\n",
    "print(' c l a s s '.replace(' ',''))\n",
    "print(' c l a s s '.strip())   # 문자열 양쪽 공백제거\n",
    "print(' c l a s s '.lstrip())   # 문자열 외쪽 공백제거\n",
    "print(' c l a s s '.rstrip())   # 문자열 오른쪽 공백제거"
   ]
  },
  {
   "cell_type": "markdown",
   "id": "de7636d8",
   "metadata": {},
   "source": [
    "### 파일에 저장하기"
   ]
  },
  {
   "cell_type": "code",
   "execution_count": 82,
   "id": "e15cd59c",
   "metadata": {},
   "outputs": [],
   "source": [
    "f = open('dictionary.txt','w',encoding='UTF8')\n",
    "if f.writable() :\n",
    "    for key, value in sortedDictionary :\n",
    "        f.write('{} : {}\\n'.format(key.strip(), value.strip()))\n",
    "    f.close()"
   ]
  },
  {
   "cell_type": "markdown",
   "id": "6a91f339",
   "metadata": {},
   "source": []
  },
  {
   "cell_type": "markdown",
   "id": "40c2cb6a",
   "metadata": {},
   "source": [
    "11 파일에서 읽어 오기\n"
   ]
  },
  {
   "cell_type": "code",
   "execution_count": 45,
   "id": "7470a133",
   "metadata": {},
   "outputs": [
    {
     "ename": "SyntaxError",
     "evalue": "invalid syntax (1121491560.py, line 3)",
     "output_type": "error",
     "traceback": [
      "\u001b[1;36m  Cell \u001b[1;32mIn[45], line 3\u001b[1;36m\u001b[0m\n\u001b[1;33m    for line in f.readlines(); #파일에서 한줄을 읽어 문자열로 가져옮\u001b[0m\n\u001b[1;37m                             ^\u001b[0m\n\u001b[1;31mSyntaxError\u001b[0m\u001b[1;31m:\u001b[0m invalid syntax\n"
     ]
    }
   ],
   "source": [
    "f = open('dictionary.txt','r',encoding='UTF8')\n",
    "if f.readable() :\n",
    "    for line in f.readlines(); #파일에서 한줄을 읽어 문자열로 가져옮\n",
    "    print(line)\n",
    "    item = line.split(':')\n",
    "    print(item[0].strip().item[1][:-1].strip())\n",
    "    key = item[0].strip()\n",
    "    value = item[1][:-1].strip()\n",
    "    dictionary[key] = value\n",
    "    f.close()\n",
    "    print(dictionary)\n",
    "    "
   ]
  },
  {
   "cell_type": "markdown",
   "id": "002c43b6",
   "metadata": {},
   "source": []
  },
  {
   "cell_type": "markdown",
   "id": "a9e8e0a6",
   "metadata": {},
   "source": [
    "12 요소 전체 삭제\n"
   ]
  },
  {
   "cell_type": "code",
   "execution_count": 52,
   "id": "83356a0d",
   "metadata": {},
   "outputs": [
    {
     "name": "stdout",
     "output_type": "stream",
     "text": [
      "{'classroom': '교실', 'smart': '현명한', 'lunch': '점심', 'student': '학생2'}\n"
     ]
    }
   ],
   "source": [
    "dictionary\n",
    "print(dictionary)"
   ]
  },
  {
   "cell_type": "markdown",
   "id": "4c4643a1",
   "metadata": {},
   "source": [
    "13문자열 길이 구하기"
   ]
  },
  {
   "cell_type": "code",
   "execution_count": 51,
   "id": "941c7a34",
   "metadata": {},
   "outputs": [
    {
     "name": "stdout",
     "output_type": "stream",
     "text": [
      "7\n",
      "4\n"
     ]
    }
   ],
   "source": [
    "print(len('student'))\n",
    "print(len(dictionary))"
   ]
  },
  {
   "cell_type": "markdown",
   "id": "ed6d89e6",
   "metadata": {},
   "source": [
    "14문자열 비교"
   ]
  },
  {
   "cell_type": "code",
   "execution_count": 53,
   "id": "a88a821c",
   "metadata": {},
   "outputs": [
    {
     "name": "stdout",
     "output_type": "stream",
     "text": [
      "False\n",
      "abc\n",
      "ABC\n"
     ]
    }
   ],
   "source": [
    "print('aBc'== 'aBC')\n",
    "##소문자, 대문자 변환: lower(), uper()\n",
    "print('ABC'. lower())\n",
    "print('abc'.upper())"
   ]
  },
  {
   "cell_type": "markdown",
   "id": "4ca1b9a0",
   "metadata": {},
   "source": [
    "15 콘솔 입력\n"
   ]
  },
  {
   "cell_type": "code",
   "execution_count": 54,
   "id": "6d3e13ed",
   "metadata": {},
   "outputs": [
    {
     "ename": "KeyboardInterrupt",
     "evalue": "Interrupted by user",
     "output_type": "error",
     "traceback": [
      "\u001b[1;31m---------------------------------------------------------------------------\u001b[0m",
      "\u001b[1;31mKeyboardInterrupt\u001b[0m                         Traceback (most recent call last)",
      "Cell \u001b[1;32mIn[54], line 1\u001b[0m\n\u001b[1;32m----> 1\u001b[0m word \u001b[38;5;241m=\u001b[39m \u001b[38;5;28minput\u001b[39m(\u001b[38;5;124m'\u001b[39m\u001b[38;5;124m단어를 입력하세요\u001b[39m\u001b[38;5;124m'\u001b[39m)\n\u001b[0;32m      3\u001b[0m \u001b[38;5;28mprint\u001b[39m(word\u001b[38;5;241m.\u001b[39mupper())\n",
      "File \u001b[1;32mD:\\java11\\anaconda3\\Lib\\site-packages\\ipykernel\\kernelbase.py:1202\u001b[0m, in \u001b[0;36mKernel.raw_input\u001b[1;34m(self, prompt)\u001b[0m\n\u001b[0;32m   1200\u001b[0m     msg \u001b[38;5;241m=\u001b[39m \u001b[38;5;124m\"\u001b[39m\u001b[38;5;124mraw_input was called, but this frontend does not support input requests.\u001b[39m\u001b[38;5;124m\"\u001b[39m\n\u001b[0;32m   1201\u001b[0m     \u001b[38;5;28;01mraise\u001b[39;00m StdinNotImplementedError(msg)\n\u001b[1;32m-> 1202\u001b[0m \u001b[38;5;28;01mreturn\u001b[39;00m \u001b[38;5;28mself\u001b[39m\u001b[38;5;241m.\u001b[39m_input_request(\n\u001b[0;32m   1203\u001b[0m     \u001b[38;5;28mstr\u001b[39m(prompt),\n\u001b[0;32m   1204\u001b[0m     \u001b[38;5;28mself\u001b[39m\u001b[38;5;241m.\u001b[39m_parent_ident[\u001b[38;5;124m\"\u001b[39m\u001b[38;5;124mshell\u001b[39m\u001b[38;5;124m\"\u001b[39m],\n\u001b[0;32m   1205\u001b[0m     \u001b[38;5;28mself\u001b[39m\u001b[38;5;241m.\u001b[39mget_parent(\u001b[38;5;124m\"\u001b[39m\u001b[38;5;124mshell\u001b[39m\u001b[38;5;124m\"\u001b[39m),\n\u001b[0;32m   1206\u001b[0m     password\u001b[38;5;241m=\u001b[39m\u001b[38;5;28;01mFalse\u001b[39;00m,\n\u001b[0;32m   1207\u001b[0m )\n",
      "File \u001b[1;32mD:\\java11\\anaconda3\\Lib\\site-packages\\ipykernel\\kernelbase.py:1245\u001b[0m, in \u001b[0;36mKernel._input_request\u001b[1;34m(self, prompt, ident, parent, password)\u001b[0m\n\u001b[0;32m   1242\u001b[0m \u001b[38;5;28;01mexcept\u001b[39;00m \u001b[38;5;167;01mKeyboardInterrupt\u001b[39;00m:\n\u001b[0;32m   1243\u001b[0m     \u001b[38;5;66;03m# re-raise KeyboardInterrupt, to truncate traceback\u001b[39;00m\n\u001b[0;32m   1244\u001b[0m     msg \u001b[38;5;241m=\u001b[39m \u001b[38;5;124m\"\u001b[39m\u001b[38;5;124mInterrupted by user\u001b[39m\u001b[38;5;124m\"\u001b[39m\n\u001b[1;32m-> 1245\u001b[0m     \u001b[38;5;28;01mraise\u001b[39;00m \u001b[38;5;167;01mKeyboardInterrupt\u001b[39;00m(msg) \u001b[38;5;28;01mfrom\u001b[39;00m \u001b[38;5;28;01mNone\u001b[39;00m\n\u001b[0;32m   1246\u001b[0m \u001b[38;5;28;01mexcept\u001b[39;00m \u001b[38;5;167;01mException\u001b[39;00m:\n\u001b[0;32m   1247\u001b[0m     \u001b[38;5;28mself\u001b[39m\u001b[38;5;241m.\u001b[39mlog\u001b[38;5;241m.\u001b[39mwarning(\u001b[38;5;124m\"\u001b[39m\u001b[38;5;124mInvalid Message:\u001b[39m\u001b[38;5;124m\"\u001b[39m, exc_info\u001b[38;5;241m=\u001b[39m\u001b[38;5;28;01mTrue\u001b[39;00m)\n",
      "\u001b[1;31mKeyboardInterrupt\u001b[0m: Interrupted by user"
     ]
    }
   ],
   "source": [
    "word = input('단어를 입력하세요')\n",
    "\n",
    "print(word.upper())"
   ]
  },
  {
   "cell_type": "markdown",
   "id": "589b22c7",
   "metadata": {},
   "source": [
    "16 문자열과 변수를 연결하여 새로운 문자열 생성방법\n"
   ]
  },
  {
   "cell_type": "code",
   "execution_count": 55,
   "id": "872f9c11",
   "metadata": {},
   "outputs": [
    {
     "name": "stdout",
     "output_type": "stream",
     "text": [
      "KH인제교육원\n"
     ]
    }
   ],
   "source": [
    "#1) + 연산ㅅ자\n",
    "a = '인재'\n",
    "b = 'KH'+'인제'+'교육원'\n",
    "print(b)\n",
    "#2) % 연산자\n"
   ]
  },
  {
   "cell_type": "code",
   "execution_count": 48,
   "id": "62058635",
   "metadata": {},
   "outputs": [
    {
     "name": "stdout",
     "output_type": "stream",
     "text": [
      "kh 인재 교육원\n"
     ]
    }
   ],
   "source": [
    "#2) %연산자\n",
    "a = '인재'\n",
    "b = 'kh %s 교육원' % a\n",
    "print(b)"
   ]
  },
  {
   "cell_type": "code",
   "execution_count": 47,
   "id": "e9a4ce7a",
   "metadata": {},
   "outputs": [
    {
     "name": "stdout",
     "output_type": "stream",
     "text": [
      "('kh%교육원', '인재')\n"
     ]
    }
   ],
   "source": [
    "#3) format()메소드 사용\n",
    "a = '인재'\n",
    "b = 'kh%교육원' ,format(a)\n",
    "print(b)"
   ]
  },
  {
   "cell_type": "code",
   "execution_count": 62,
   "id": "7779a7ce",
   "metadata": {},
   "outputs": [
    {
     "data": {
      "text/plain": [
       "'kh인재   교육원'"
      ]
     },
     "execution_count": 62,
     "metadata": {},
     "output_type": "execute_result"
    }
   ],
   "source": [
    "#4 f-string 사용 <==python 3.6이상에서 사용\n",
    "a='인재'\n",
    "b=f'kh{a:5}교육원'\n",
    "format(b)\n"
   ]
  },
  {
   "cell_type": "code",
   "execution_count": 63,
   "id": "e9d3e9e3",
   "metadata": {},
   "outputs": [
    {
     "name": "stdout",
     "output_type": "stream",
     "text": [
      "숫자는 005입니다.\n"
     ]
    }
   ],
   "source": [
    "#5-1) f-string 포맥지점 예 숫자\n",
    "a = 5\n",
    "b = f'숫자는 {a:03d}입니다.'\n",
    "print(b)"
   ]
  },
  {
   "cell_type": "code",
   "execution_count": null,
   "id": "460f5dd1",
   "metadata": {},
   "outputs": [],
   "source": []
  }
 ],
 "metadata": {
  "kernelspec": {
   "display_name": "Python 3 (ipykernel)",
   "language": "python",
   "name": "python3"
  },
  "language_info": {
   "codemirror_mode": {
    "name": "ipython",
    "version": 3
   },
   "file_extension": ".py",
   "mimetype": "text/x-python",
   "name": "python",
   "nbconvert_exporter": "python",
   "pygments_lexer": "ipython3",
   "version": "3.11.5"
  },
  "toc": {
   "base_numbering": 1,
   "nav_menu": {},
   "number_sections": true,
   "sideBar": true,
   "skip_h1_title": false,
   "title_cell": "Table of Contents",
   "title_sidebar": "Contents",
   "toc_cell": false,
   "toc_position": {},
   "toc_section_display": true,
   "toc_window_display": false
  }
 },
 "nbformat": 4,
 "nbformat_minor": 5
}
