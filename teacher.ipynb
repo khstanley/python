{
 "cells": [
  {
   "cell_type": "code",
   "execution_count": 155,
   "id": "7a65c350",
   "metadata": {},
   "outputs": [
    {
     "name": "stdout",
     "output_type": "stream",
     "text": [
      "hello\n"
     ]
    }
   ],
   "source": [
    "print('hello')"
   ]
  },
  {
   "cell_type": "markdown",
   "id": "aa8a2f46",
   "metadata": {},
   "source": [
    "### 딕셔너리 생성"
   ]
  },
  {
   "cell_type": "code",
   "execution_count": 156,
   "id": "42aaf656",
   "metadata": {},
   "outputs": [
    {
     "data": {
      "text/plain": [
       "dict"
      ]
     },
     "execution_count": 156,
     "metadata": {},
     "output_type": "execute_result"
    }
   ],
   "source": [
    "dictionary = {}\n",
    "type(dictionary)"
   ]
  },
  {
   "cell_type": "code",
   "execution_count": 157,
   "id": "fd34e677",
   "metadata": {},
   "outputs": [
    {
     "data": {
      "text/plain": [
       "dict"
      ]
     },
     "execution_count": 157,
     "metadata": {},
     "output_type": "execute_result"
    }
   ],
   "source": [
    "dictionary2 = dict()\n",
    "type(dictionary2)"
   ]
  },
  {
   "cell_type": "markdown",
   "id": "189a77c9",
   "metadata": {},
   "source": [
    "### 요소추가"
   ]
  },
  {
   "cell_type": "code",
   "execution_count": 158,
   "id": "7357432f",
   "metadata": {},
   "outputs": [
    {
     "data": {
      "text/plain": [
       "{'student': '학생',\n",
       " 'teacher': '교사',\n",
       " 'classroom': '교실',\n",
       " 'smart': '현명한',\n",
       " 'lunch': '점심'}"
      ]
     },
     "execution_count": 158,
     "metadata": {},
     "output_type": "execute_result"
    }
   ],
   "source": [
    "dictionary['student'] = '학생'\n",
    "dictionary['teacher'] = '교사'\n",
    "dictionary['classroom']  = '교실'\n",
    "dictionary['smart'] = '현명한'\n",
    "dictionary['lunch'] = '점심'\n",
    "dictionary"
   ]
  },
  {
   "cell_type": "markdown",
   "id": "245b7dd5",
   "metadata": {},
   "source": [
    "### 요소삭제"
   ]
  },
  {
   "cell_type": "code",
   "execution_count": 159,
   "id": "097dcf6e",
   "metadata": {},
   "outputs": [
    {
     "data": {
      "text/plain": [
       "{'teacher': '교사', 'classroom': '교실', 'smart': '현명한', 'lunch': '점심'}"
      ]
     },
     "execution_count": 159,
     "metadata": {},
     "output_type": "execute_result"
    }
   ],
   "source": [
    "del dictionary['student']\n",
    "dictionary"
   ]
  },
  {
   "cell_type": "code",
   "execution_count": 160,
   "id": "0a9f5fe5",
   "metadata": {},
   "outputs": [
    {
     "name": "stdout",
     "output_type": "stream",
     "text": [
      "{'classroom': '교실', 'smart': '현명한', 'lunch': '점심'}\n",
      "교사\n"
     ]
    }
   ],
   "source": [
    "word = dictionary.pop('teacher')\n",
    "print(dictionary)\n",
    "print(word)"
   ]
  },
  {
   "cell_type": "markdown",
   "id": "83c608fa",
   "metadata": {},
   "source": [
    "### 요소수정\n"
   ]
  },
  {
   "cell_type": "code",
   "execution_count": 161,
   "id": "52a8b6c2",
   "metadata": {},
   "outputs": [
    {
     "name": "stdout",
     "output_type": "stream",
     "text": [
      "{'classroom': '교실', 'smart': '현명한', 'lunch': '점심', 'student': '학생'}\n",
      "{'classroom': '교실', 'smart': '현명한', 'lunch': '점심', 'student': '학생2'}\n"
     ]
    }
   ],
   "source": [
    "dictionary['student'] = '학생'\n",
    "print(dictionary)\n",
    "dictionary['student'] = '학생2'\n",
    "print(dictionary)"
   ]
  },
  {
   "cell_type": "markdown",
   "id": "dbf0fa07",
   "metadata": {},
   "source": [
    "### 요소조회"
   ]
  },
  {
   "cell_type": "code",
   "execution_count": 162,
   "id": "7190576e",
   "metadata": {},
   "outputs": [
    {
     "name": "stdout",
     "output_type": "stream",
     "text": [
      "교실\n"
     ]
    }
   ],
   "source": [
    "# 1) key로 value 조회하기\n",
    "meaning = dictionary['classroom']\n",
    "print(meaning)"
   ]
  },
  {
   "cell_type": "code",
   "execution_count": 163,
   "id": "681fe4d8",
   "metadata": {},
   "outputs": [
    {
     "name": "stdout",
     "output_type": "stream",
     "text": [
      "classroom 교실\n",
      "smart 현명한\n",
      "lunch 점심\n",
      "student 학생2\n"
     ]
    }
   ],
   "source": [
    "# 2) 전체조회\n",
    "# 2-1) keys\n",
    "\n",
    "for key in dictionary.keys() :\n",
    "    print(key,dictionary[key])"
   ]
  },
  {
   "cell_type": "code",
   "execution_count": 164,
   "id": "0487884d",
   "metadata": {},
   "outputs": [
    {
     "name": "stdout",
     "output_type": "stream",
     "text": [
      "classroom 교실\n",
      "smart 현명한\n",
      "lunch 점심\n",
      "student 학생2\n"
     ]
    }
   ],
   "source": [
    "# 2-2) items\n",
    "# a,b = (1,2)\n",
    "# print(a,b)\n",
    "for key, value in dictionary.items() :\n",
    "    print(key,value)"
   ]
  },
  {
   "cell_type": "code",
   "execution_count": null,
   "id": "5e433f1e",
   "metadata": {},
   "outputs": [],
   "source": [
    "for key, value in dictionary.items() :\n",
    "#     print('{:15} : {}'.format(key,value))\n",
    "    print(f'{key}:{value}')"
   ]
  },
  {
   "cell_type": "code",
   "execution_count": 166,
   "id": "958b2d66",
   "metadata": {},
   "outputs": [
    {
     "name": "stdout",
     "output_type": "stream",
     "text": [
      "dict_keys(['classroom', 'smart', 'lunch', 'student'])\n",
      "dict_values(['교실', '현명한', '점심', '학생2'])\n",
      "dict_items([('classroom', '교실'), ('smart', '현명한'), ('lunch', '점심'), ('student', '학생2')])\n"
     ]
    }
   ],
   "source": [
    "# 3) keys\n",
    "print(dictionary.keys())\n",
    "# 4) values\n",
    "print(dictionary.values())\n",
    "# 5) items\n",
    "print(dictionary.items())"
   ]
  },
  {
   "cell_type": "markdown",
   "id": "30c903c2",
   "metadata": {},
   "source": [
    "### key 존재여부"
   ]
  },
  {
   "cell_type": "code",
   "execution_count": 167,
   "id": "a1c1608c",
   "metadata": {},
   "outputs": [
    {
     "name": "stdout",
     "output_type": "stream",
     "text": [
      "False\n",
      "True\n",
      "있음\n"
     ]
    }
   ],
   "source": [
    "print( 'sutdnet' in dictionary)\n",
    "print( 'sutdnet' not in dictionary)\n",
    "if 'student' in dictionary :\n",
    "    print('있음')\n",
    "else:\n",
    "    print('없음')"
   ]
  },
  {
   "cell_type": "markdown",
   "id": "d52e4667",
   "metadata": {},
   "source": [
    "### 요소갯수"
   ]
  },
  {
   "cell_type": "code",
   "execution_count": 168,
   "id": "8bd2e315",
   "metadata": {},
   "outputs": [
    {
     "name": "stdout",
     "output_type": "stream",
     "text": [
      "4\n"
     ]
    }
   ],
   "source": [
    "print(len(dictionary))"
   ]
  },
  {
   "cell_type": "markdown",
   "id": "3487be02",
   "metadata": {},
   "source": [
    "### 요소 정렬"
   ]
  },
  {
   "cell_type": "code",
   "execution_count": 169,
   "id": "634fbf95",
   "metadata": {},
   "outputs": [
    {
     "name": "stdout",
     "output_type": "stream",
     "text": [
      "-정렬시작-\n",
      "[('classroom', '교실'), ('lunch', '점심'), ('smart', '현명한'), ('student', '학생2')]\n",
      "[('student', '학생2'), ('smart', '현명한'), ('lunch', '점심'), ('classroom', '교실')]\n"
     ]
    }
   ],
   "source": [
    "import operator\n",
    "print('-정렬시작-')\n",
    "sortedDictionary = sorted(dictionary.items(),key=operator.itemgetter(0))\n",
    "print(sortedDictionary)\n",
    "reverseDictionary = sorted(dictionary.items(),key=operator.itemgetter(0), reverse=True)\n",
    "print(reverseDictionary)\n"
   ]
  },
  {
   "cell_type": "code",
   "execution_count": 170,
   "id": "35cadc51",
   "metadata": {},
   "outputs": [
    {
     "name": "stdout",
     "output_type": "stream",
     "text": [
      "오름차순\n",
      "classroom       : 교실\n",
      "lunch           : 점심\n",
      "smart           : 현명한\n",
      "student         : 학생2\n"
     ]
    }
   ],
   "source": [
    "print('오름차순')\n",
    "for key, value in sortedDictionary :\n",
    "    print('{:15} : {}'.format(key,value))"
   ]
  },
  {
   "cell_type": "code",
   "execution_count": 171,
   "id": "2175f207",
   "metadata": {},
   "outputs": [
    {
     "name": "stdout",
     "output_type": "stream",
     "text": [
      "내림차순\n",
      "student         : 학생2\n",
      "smart           : 현명한\n",
      "lunch           : 점심\n",
      "classroom       : 교실\n"
     ]
    }
   ],
   "source": [
    "print('내림차순')\n",
    "for key, value in reverseDictionary:\n",
    "    print('{:15} : {}'.format(key,value))"
   ]
  },
  {
   "cell_type": "markdown",
   "id": "fe830139",
   "metadata": {},
   "source": [
    "### 문자열 공백제거"
   ]
  },
  {
   "cell_type": "code",
   "execution_count": 172,
   "id": "d7660a52",
   "metadata": {},
   "outputs": [
    {
     "name": "stdout",
     "output_type": "stream",
     "text": [
      "class\n",
      "c l a s s\n",
      "c l a s s \n",
      " c l a s s\n"
     ]
    }
   ],
   "source": [
    "# replace()\n",
    "# strip(), lstrip(), rstrip()\n",
    "print(' c l a s s '.replace(' ',''))\n",
    "print(' c l a s s '.strip())   # 문자열 양쪽 공백제거\n",
    "print(' c l a s s '.lstrip())   # 문자열 외쪽 공백제거\n",
    "print(' c l a s s '.rstrip())   # 문자열 오른쪽 공백제거"
   ]
  },
  {
   "cell_type": "markdown",
   "id": "de7636d8",
   "metadata": {},
   "source": [
    "### 파일에 저장하기"
   ]
  },
  {
   "cell_type": "code",
   "execution_count": 173,
   "id": "e15cd59c",
   "metadata": {},
   "outputs": [],
   "source": [
    "f = open('dictionary.txt','w',encoding='UTF8')\n",
    "if f.writable() :\n",
    "    for key, value in sortedDictionary :\n",
    "        f.write('{} : {}\\n'.format(key.strip(), value.strip()))\n",
    "    f.close()"
   ]
  },
  {
   "cell_type": "markdown",
   "id": "70d2b731",
   "metadata": {},
   "source": [
    "### 파일에서 읽어오기"
   ]
  },
  {
   "cell_type": "code",
   "execution_count": 174,
   "id": "140ed038",
   "metadata": {},
   "outputs": [
    {
     "name": "stdout",
     "output_type": "stream",
     "text": [
      "{'classroom': '교실', 'smart': '현명한', 'lunch': '점심', 'student': '학생2'}\n"
     ]
    }
   ],
   "source": [
    "f = open('dictionary.txt','r',encoding='UTF8')\n",
    "if f.readable() :\n",
    "    for line in f.readlines() : #파일에서 한줄을 읽어 문자열로 가져옮\n",
    "#         print(line)\n",
    "        item = line.split(':')\n",
    "#         print(item[0].strip(),item[1][:-1].strip())\n",
    "        key = item[0].strip()\n",
    "        value = item[1][:-1].strip()\n",
    "        dictionary[key] = value\n",
    "    f.close()\n",
    "print(dictionary)    "
   ]
  },
  {
   "cell_type": "markdown",
   "id": "12b2f4f6",
   "metadata": {},
   "source": [
    "### 요소 전체 삭제"
   ]
  },
  {
   "cell_type": "code",
   "execution_count": 175,
   "id": "6604f9ff",
   "metadata": {},
   "outputs": [
    {
     "name": "stdout",
     "output_type": "stream",
     "text": [
      "{}\n"
     ]
    }
   ],
   "source": [
    "dictionary.clear()\n",
    "print(dictionary)"
   ]
  },
  {
   "cell_type": "markdown",
   "id": "0d2c4ae5",
   "metadata": {},
   "source": [
    "### 문자열 길이구하기"
   ]
  },
  {
   "cell_type": "code",
   "execution_count": 176,
   "id": "1d823b95",
   "metadata": {},
   "outputs": [
    {
     "name": "stdout",
     "output_type": "stream",
     "text": [
      "7\n",
      "0\n"
     ]
    }
   ],
   "source": [
    "print(len('student'))\n",
    "print(len(dictionary))\n"
   ]
  },
  {
   "cell_type": "markdown",
   "id": "953cec5a",
   "metadata": {},
   "source": [
    "### 문자열 비교\n"
   ]
  },
  {
   "cell_type": "code",
   "execution_count": 177,
   "id": "cc9cde86",
   "metadata": {},
   "outputs": [
    {
     "name": "stdout",
     "output_type": "stream",
     "text": [
      "False\n",
      "abc\n",
      "ABC\n"
     ]
    }
   ],
   "source": [
    "print ('aBc' == 'aBC')\n",
    "# 소문자,대문자 변환 : lower(), upper()\n",
    "print('ABC'.lower())\n",
    "print('abc'.upper())"
   ]
  },
  {
   "cell_type": "markdown",
   "id": "4ae0184d",
   "metadata": {},
   "source": [
    "### 콘솔입력"
   ]
  },
  {
   "cell_type": "code",
   "execution_count": null,
   "id": "70b07e98",
   "metadata": {},
   "outputs": [],
   "source": [
    "word = input('단어를 입력하세요')\n",
    "print(word.lower())"
   ]
  },
  {
   "cell_type": "markdown",
   "id": "ab0cded3",
   "metadata": {},
   "source": [
    "### 문자열과 변수를 연결하여 새로운 문자열 생성방법"
   ]
  },
  {
   "cell_type": "code",
   "execution_count": null,
   "id": "2222c1e6",
   "metadata": {},
   "outputs": [],
   "source": [
    "# 1) + 연산자\n",
    "a = '인재'\n",
    "b = 'KH' + a + '교육원'\n",
    "print(b)"
   ]
  },
  {
   "cell_type": "code",
   "execution_count": null,
   "id": "13ff3601",
   "metadata": {},
   "outputs": [],
   "source": [
    "# 2) % 연산자\n",
    "a = '인재'\n",
    "b = 'KH%s교육원' % a\n",
    "print(b)"
   ]
  },
  {
   "cell_type": "code",
   "execution_count": null,
   "id": "715961ee",
   "metadata": {},
   "outputs": [],
   "source": [
    "# 3) format()메소드 사용\n",
    "a = '인재'\n",
    "b = 'KH{}교육원'.format(a)\n",
    "print(b)"
   ]
  },
  {
   "cell_type": "code",
   "execution_count": null,
   "id": "1ca15e49",
   "metadata": {},
   "outputs": [],
   "source": [
    "# 4) f-string 사용    <==Python 3.6이상에서 사용\n",
    "a = '인재'\n",
    "b = f'KH{a}교육원'\n",
    "print(b)"
   ]
  },
  {
   "cell_type": "code",
   "execution_count": null,
   "id": "bd0d6451",
   "metadata": {},
   "outputs": [],
   "source": [
    "# 5) f-string 포맷지정 예\n",
    "a = '인재'\n",
    "b = f'KH{a:5}교육원'\n",
    "print(b)"
   ]
  },
  {
   "cell_type": "code",
   "execution_count": null,
   "id": "cec3b282",
   "metadata": {},
   "outputs": [],
   "source": [
    "# 5-1) f-string 포맷지정 예 숫자\n",
    "a = 5\n",
    "b = f'숫자는{a:03d}입니다.'\n",
    "print(b)"
   ]
  },
  {
   "cell_type": "code",
   "execution_count": null,
   "id": "91cf847c",
   "metadata": {},
   "outputs": [],
   "source": []
  }
 ],
 "metadata": {
  "kernelspec": {
   "display_name": "Python 3 (ipykernel)",
   "language": "python",
   "name": "python3"
  },
  "language_info": {
   "codemirror_mode": {
    "name": "ipython",
    "version": 3
   },
   "file_extension": ".py",
   "mimetype": "text/x-python",
   "name": "python",
   "nbconvert_exporter": "python",
   "pygments_lexer": "ipython3",
   "version": "3.11.5"
  },
  "toc": {
   "base_numbering": 1,
   "nav_menu": {},
   "number_sections": true,
   "sideBar": true,
   "skip_h1_title": false,
   "title_cell": "Table of Contents",
   "title_sidebar": "Contents",
   "toc_cell": false,
   "toc_position": {},
   "toc_section_display": true,
   "toc_window_display": false
  }
 },
 "nbformat": 4,
 "nbformat_minor": 5
}
